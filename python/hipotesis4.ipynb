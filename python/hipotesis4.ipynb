{
 "cells": [
  {
   "cell_type": "code",
   "execution_count": 13,
   "metadata": {},
   "outputs": [
    {
     "name": "stdout",
     "output_type": "stream",
     "text": [
      "showing info https://raw.githubusercontent.com/nltk/nltk_data/gh-pages/index.xml\n"
     ]
    },
    {
     "name": "stderr",
     "output_type": "stream",
     "text": [
      "[nltk_data] Downloading package punkt to\n",
      "[nltk_data]     C:\\Users\\ljgov\\AppData\\Roaming\\nltk_data...\n",
      "[nltk_data]   Package punkt is already up-to-date!\n",
      "[nltk_data] Downloading package punkt_tab to\n",
      "[nltk_data]     C:\\Users\\ljgov\\AppData\\Roaming\\nltk_data...\n",
      "[nltk_data]   Package punkt_tab is already up-to-date!\n"
     ]
    },
    {
     "data": {
      "text/plain": [
       "True"
      ]
     },
     "execution_count": 13,
     "metadata": {},
     "output_type": "execute_result"
    }
   ],
   "source": [
    "import nltk\n",
    "nltk.download()\n",
    "nltk.download('punkt')\n",
    "nltk.download('punkt_tab')"
   ]
  },
  {
   "cell_type": "code",
   "execution_count": 14,
   "metadata": {},
   "outputs": [
    {
     "name": "stderr",
     "output_type": "stream",
     "text": [
      "[nltk_data] Downloading package stopwords to\n",
      "[nltk_data]     C:\\Users\\ljgov\\AppData\\Roaming\\nltk_data...\n",
      "[nltk_data]   Package stopwords is already up-to-date!\n"
     ]
    },
    {
     "name": "stdout",
     "output_type": "stream",
     "text": [
      "good        4179\n",
      "product     2616\n",
      "quality     1927\n",
      "use         1419\n",
      "one         1168\n",
      "like        1065\n",
      "price       1049\n",
      "also        1035\n",
      "cable        920\n",
      "phone        879\n",
      "using        853\n",
      "easy         743\n",
      "battery      730\n",
      "time         702\n",
      "charging     666\n",
      "well         653\n",
      "working      653\n",
      "sound        653\n",
      "tv           624\n",
      "buy          618\n",
      "dtype: int64\n",
      "'easy' está entre las palabras más comunes con una frecuencia de 743\n",
      "'performance' está entre las palabras más comunes con una frecuencia de 214\n",
      "'quality' está entre las palabras más comunes con una frecuencia de 1927\n",
      "'user' está entre las palabras más comunes con una frecuencia de 118\n",
      "'speed' está entre las palabras más comunes con una frecuencia de 339\n"
     ]
    }
   ],
   "source": [
    "import nltk\n",
    "from sklearn.feature_extraction.text import CountVectorizer\n",
    "from nltk.corpus import stopwords\n",
    "import pandas as pd\n",
    "\n",
    "# Cargar los datos desde un archivo CSV\n",
    "df_dummies = pd.read_csv('C:/Users/ljgov/Documents/LABORATORIA/PROYECTO4/dummies.csv')\n",
    "\n",
    "# Descargar stopwords si no están disponibles\n",
    "nltk.download('stopwords')\n",
    "\n",
    "# Vectorizar texto y calcular frecuencias de palabras\n",
    "vectorizer = CountVectorizer(stop_words=stopwords.words('english'))\n",
    "X = vectorizer.fit_transform(df_dummies['cleaned_review_content'])\n",
    "\n",
    "# Convertir a DataFrame para fácil manipulación\n",
    "word_freq_df = pd.DataFrame(X.toarray(), columns=vectorizer.get_feature_names_out())\n",
    "\n",
    "# Sumar las frecuencias de cada palabra\n",
    "word_freq = word_freq_df.sum().sort_values(ascending=False)\n",
    "\n",
    "# Listar las palabras clave más comunes\n",
    "print(word_freq.head(20))\n",
    "\n",
    "keywords = ['easy', 'performance', 'quality', 'user', 'speed']\n",
    "\n",
    "# Comprobar si estas palabras clave están entre las más frecuentes\n",
    "for keyword in keywords:\n",
    "    if keyword in word_freq.index:\n",
    "        print(f\"'{keyword}' está entre las palabras más comunes con una frecuencia de {word_freq[keyword]}\")"
   ]
  }
 ],
 "metadata": {
  "kernelspec": {
   "display_name": "Python 3",
   "language": "python",
   "name": "python3"
  },
  "language_info": {
   "codemirror_mode": {
    "name": "ipython",
    "version": 3
   },
   "file_extension": ".py",
   "mimetype": "text/x-python",
   "name": "python",
   "nbconvert_exporter": "python",
   "pygments_lexer": "ipython3",
   "version": "3.12.4"
  }
 },
 "nbformat": 4,
 "nbformat_minor": 2
}
